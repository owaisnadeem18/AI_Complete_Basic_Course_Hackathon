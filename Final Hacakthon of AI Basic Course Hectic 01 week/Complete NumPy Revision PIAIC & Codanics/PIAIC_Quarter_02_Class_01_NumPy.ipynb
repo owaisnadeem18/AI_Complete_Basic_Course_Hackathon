{
  "nbformat": 4,
  "nbformat_minor": 0,
  "metadata": {
    "colab": {
      "provenance": []
    },
    "kernelspec": {
      "name": "python3",
      "display_name": "Python 3"
    },
    "language_info": {
      "name": "python"
    }
  },
  "cells": [
    {
      "cell_type": "markdown",
      "source": [
        "# NumPy"
      ],
      "metadata": {
        "id": "iQ1swN3m2O8M"
      }
    },
    {
      "cell_type": "code",
      "execution_count": null,
      "metadata": {
        "id": "vcjm-oHt2Ijp"
      },
      "outputs": [],
      "source": [
        "# NumPy is Numerical Python , it is used to create arrays in python"
      ]
    },
    {
      "cell_type": "code",
      "source": [
        "# Importing Numpy\n",
        "import numpy as np\n",
        "\n",
        "# create an array:\n",
        "\n",
        "arr = np.array([45 , 55 ,65 , 75])\n",
        "arr"
      ],
      "metadata": {
        "colab": {
          "base_uri": "https://localhost:8080/"
        },
        "id": "EIr9FJUS2qoH",
        "outputId": "6e871db8-48b7-439b-a57e-4376f22e384c"
      },
      "execution_count": 2,
      "outputs": [
        {
          "output_type": "execute_result",
          "data": {
            "text/plain": [
              "array([45, 55, 65, 75])"
            ]
          },
          "metadata": {},
          "execution_count": 2
        }
      ]
    },
    {
      "cell_type": "code",
      "source": [
        "# If I wanna see the size of it , then\n",
        "\n",
        "size = arr.size\n",
        "size"
      ],
      "metadata": {
        "colab": {
          "base_uri": "https://localhost:8080/"
        },
        "id": "zfRB6xLZ277z",
        "outputId": "29628ba2-06f4-472c-f1d1-dd8bca5470b9"
      },
      "execution_count": null,
      "outputs": [
        {
          "output_type": "execute_result",
          "data": {
            "text/plain": [
              "4"
            ]
          },
          "metadata": {},
          "execution_count": 3
        }
      ]
    },
    {
      "cell_type": "code",
      "source": [
        "# The array is 1 dimensional , which we can see here\n",
        "arr.ndim"
      ],
      "metadata": {
        "colab": {
          "base_uri": "https://localhost:8080/"
        },
        "id": "ucEnc3pC3e3j",
        "outputId": "a4875332-c9e6-453a-bc44-e968efe6dfef"
      },
      "execution_count": null,
      "outputs": [
        {
          "output_type": "execute_result",
          "data": {
            "text/plain": [
              "1"
            ]
          },
          "metadata": {},
          "execution_count": 4
        }
      ]
    },
    {
      "cell_type": "code",
      "source": [
        "arr"
      ],
      "metadata": {
        "colab": {
          "base_uri": "https://localhost:8080/"
        },
        "id": "IOAvVqxX6PAx",
        "outputId": "cdf664a9-afc4-4696-ce57-b72f40a8d326"
      },
      "execution_count": null,
      "outputs": [
        {
          "output_type": "execute_result",
          "data": {
            "text/plain": [
              "array([45, 55, 65, 75])"
            ]
          },
          "metadata": {},
          "execution_count": 8
        }
      ]
    },
    {
      "cell_type": "code",
      "source": [
        "# 1D = vector\n",
        "# 2D = matrix\n",
        "# 3D = cube\n",
        "# .\n",
        "# .\n",
        "# .\n",
        "# nD = ....\n",
        "\n",
        "arr.shape"
      ],
      "metadata": {
        "colab": {
          "base_uri": "https://localhost:8080/"
        },
        "id": "Mr9p4eWK3oAN",
        "outputId": "306b3e5a-9e7f-47b8-f556-479780135815"
      },
      "execution_count": null,
      "outputs": [
        {
          "output_type": "execute_result",
          "data": {
            "text/plain": [
              "(4,)"
            ]
          },
          "metadata": {},
          "execution_count": 5
        }
      ]
    },
    {
      "cell_type": "code",
      "source": [
        "# You can also create an array using this below method:\n",
        "\n",
        "array = np.arange(0,20)\n",
        "array # An array from numbers 0 to 20"
      ],
      "metadata": {
        "colab": {
          "base_uri": "https://localhost:8080/"
        },
        "id": "NPjtdZAp5cWK",
        "outputId": "ec446471-c60a-4d2a-a696-ffe6076f7dfc"
      },
      "execution_count": null,
      "outputs": [
        {
          "output_type": "execute_result",
          "data": {
            "text/plain": [
              "array([ 0,  1,  2,  3,  4,  5,  6,  7,  8,  9, 10, 11, 12, 13, 14, 15, 16,\n",
              "       17, 18, 19])"
            ]
          },
          "metadata": {},
          "execution_count": 6
        }
      ]
    },
    {
      "cell_type": "code",
      "source": [
        "# Let's talk about 2D array\n",
        "\n",
        "arr2D = np.array([[34 , 56 , 42] , [23 , 90 , 12] , [43 , 90 , 41] , [87 , 56 ,34]])\n",
        "arr2D #This is two dimensional array"
      ],
      "metadata": {
        "colab": {
          "base_uri": "https://localhost:8080/"
        },
        "id": "Rjxbr7lq4G4V",
        "outputId": "feda3eb5-5833-4790-ffe0-6643850d10b4"
      },
      "execution_count": null,
      "outputs": [
        {
          "output_type": "execute_result",
          "data": {
            "text/plain": [
              "array([[34, 56, 42],\n",
              "       [23, 90, 12],\n",
              "       [43, 90, 41],\n",
              "       [87, 56, 34]])"
            ]
          },
          "metadata": {},
          "execution_count": 7
        }
      ]
    },
    {
      "cell_type": "code",
      "source": [
        "arr2D = np.arange(0,20).reshape(1,20)\n",
        "arr2D"
      ],
      "metadata": {
        "colab": {
          "base_uri": "https://localhost:8080/"
        },
        "id": "xAAbRBoa7Go2",
        "outputId": "2fb253dd-db28-4aae-c18a-441b9a6effc0"
      },
      "execution_count": null,
      "outputs": [
        {
          "output_type": "execute_result",
          "data": {
            "text/plain": [
              "array([[ 0,  1,  2,  3,  4,  5,  6,  7,  8,  9, 10, 11, 12, 13, 14, 15,\n",
              "        16, 17, 18, 19]])"
            ]
          },
          "metadata": {},
          "execution_count": 10
        }
      ]
    },
    {
      "cell_type": "code",
      "source": [
        "arr2D = np.arange(20)\n",
        "arr2D"
      ],
      "metadata": {
        "colab": {
          "base_uri": "https://localhost:8080/"
        },
        "id": "M9C8ojpP8Ex0",
        "outputId": "c73f1dfa-39ca-4728-d80e-7a6454e154a4"
      },
      "execution_count": null,
      "outputs": [
        {
          "output_type": "execute_result",
          "data": {
            "text/plain": [
              "array([ 0,  1,  2,  3,  4,  5,  6,  7,  8,  9, 10, 11, 12, 13, 14, 15, 16,\n",
              "       17, 18, 19])"
            ]
          },
          "metadata": {},
          "execution_count": 13
        }
      ]
    },
    {
      "cell_type": "code",
      "source": [
        "arr2D.flatten()"
      ],
      "metadata": {
        "colab": {
          "base_uri": "https://localhost:8080/"
        },
        "id": "miyafeo08LCY",
        "outputId": "9ca3a02a-3f81-4c06-a816-263fbd4da9b4"
      },
      "execution_count": null,
      "outputs": [
        {
          "output_type": "execute_result",
          "data": {
            "text/plain": [
              "array([ 0,  1,  2,  3,  4,  5,  6,  7,  8,  9, 10, 11, 12, 13, 14, 15, 16,\n",
              "       17, 18, 19])"
            ]
          },
          "metadata": {},
          "execution_count": 14
        }
      ]
    },
    {
      "cell_type": "code",
      "source": [
        "arr2D.ravel()"
      ],
      "metadata": {
        "colab": {
          "base_uri": "https://localhost:8080/"
        },
        "id": "ucZOt7yd7gbO",
        "outputId": "13704833-9bdc-4ad3-e442-4b623c974205"
      },
      "execution_count": null,
      "outputs": [
        {
          "output_type": "execute_result",
          "data": {
            "text/plain": [
              "array([ 0,  1,  2,  3,  4,  5,  6,  7,  8,  9, 10, 11, 12, 13, 14, 15, 16,\n",
              "       17, 18, 19])"
            ]
          },
          "metadata": {},
          "execution_count": 15
        }
      ]
    },
    {
      "cell_type": "code",
      "source": [
        "# This is a scalar quanitity , so the number has no direction\n",
        "\n",
        "arr = np.array(10)\n",
        "arr"
      ],
      "metadata": {
        "colab": {
          "base_uri": "https://localhost:8080/"
        },
        "id": "MuBvm5PW8hE-",
        "outputId": "696e8eca-c374-4a42-8827-8cdc164b8360"
      },
      "execution_count": null,
      "outputs": [
        {
          "output_type": "execute_result",
          "data": {
            "text/plain": [
              "array(10)"
            ]
          },
          "metadata": {},
          "execution_count": 17
        }
      ]
    },
    {
      "cell_type": "code",
      "source": [
        "# arr.shape\n",
        "arr.ndim"
      ],
      "metadata": {
        "colab": {
          "base_uri": "https://localhost:8080/"
        },
        "id": "aV9_7InD8w8c",
        "outputId": "bb440168-8332-4904-857b-7c1764d89df5"
      },
      "execution_count": null,
      "outputs": [
        {
          "output_type": "execute_result",
          "data": {
            "text/plain": [
              "0"
            ]
          },
          "metadata": {},
          "execution_count": 19
        }
      ]
    },
    {
      "cell_type": "code",
      "source": [
        "arr = np.array([10])\n",
        "arr"
      ],
      "metadata": {
        "colab": {
          "base_uri": "https://localhost:8080/"
        },
        "id": "77dJw_d681qP",
        "outputId": "7ac9cba0-17a8-45a8-e49e-939d53bcf95a"
      },
      "execution_count": null,
      "outputs": [
        {
          "output_type": "execute_result",
          "data": {
            "text/plain": [
              "array([10])"
            ]
          },
          "metadata": {},
          "execution_count": 20
        }
      ]
    },
    {
      "cell_type": "code",
      "source": [
        "arr.shape"
      ],
      "metadata": {
        "colab": {
          "base_uri": "https://localhost:8080/"
        },
        "id": "xrjL73Uz87Dh",
        "outputId": "e9aa5375-cd1f-4cd0-bac0-0bf07cb4703d"
      },
      "execution_count": null,
      "outputs": [
        {
          "output_type": "execute_result",
          "data": {
            "text/plain": [
              "(1,)"
            ]
          },
          "metadata": {},
          "execution_count": 21
        }
      ]
    },
    {
      "cell_type": "code",
      "source": [
        "arr.ndim"
      ],
      "metadata": {
        "colab": {
          "base_uri": "https://localhost:8080/"
        },
        "id": "oBOKGSqi8_98",
        "outputId": "810e03a2-defc-4244-9c8f-9ed7165175a0"
      },
      "execution_count": null,
      "outputs": [
        {
          "output_type": "execute_result",
          "data": {
            "text/plain": [
              "1"
            ]
          },
          "metadata": {},
          "execution_count": 22
        }
      ]
    },
    {
      "cell_type": "code",
      "source": [
        "arr = np.array([[10] , [78] , [89]])\n",
        "arr"
      ],
      "metadata": {
        "colab": {
          "base_uri": "https://localhost:8080/"
        },
        "id": "Q0QnNUho9B7r",
        "outputId": "10aa3246-21ad-4068-d1e5-041d497329fb"
      },
      "execution_count": null,
      "outputs": [
        {
          "output_type": "execute_result",
          "data": {
            "text/plain": [
              "array([[10],\n",
              "       [78],\n",
              "       [89]])"
            ]
          },
          "metadata": {},
          "execution_count": 24
        }
      ]
    },
    {
      "cell_type": "code",
      "source": [
        "arr.ndim # Because this is a 2D dimension array"
      ],
      "metadata": {
        "colab": {
          "base_uri": "https://localhost:8080/"
        },
        "id": "BhEeWi8W9YlZ",
        "outputId": "bb0e2232-8fdd-416a-9f9f-aaccf25971e8"
      },
      "execution_count": null,
      "outputs": [
        {
          "output_type": "execute_result",
          "data": {
            "text/plain": [
              "2"
            ]
          },
          "metadata": {},
          "execution_count": 25
        }
      ]
    },
    {
      "cell_type": "code",
      "source": [
        "# 2D Array\n",
        "\n",
        "# arr2D = np.array([[10 , 89 , 34 , 14 , 59 , 42 , 23 , 52 , 43 , 12 , 53 , 123 , 90 ,12 , 42]])\n",
        "arr2D = np.array([[32]])\n",
        "arr2D"
      ],
      "metadata": {
        "colab": {
          "base_uri": "https://localhost:8080/"
        },
        "id": "2-dRtngLbeTL",
        "outputId": "5f5a4afa-9cc0-45fe-e637-f25e98d1800f"
      },
      "execution_count": 17,
      "outputs": [
        {
          "output_type": "execute_result",
          "data": {
            "text/plain": [
              "array([[32]])"
            ]
          },
          "metadata": {},
          "execution_count": 17
        }
      ]
    },
    {
      "cell_type": "code",
      "source": [
        "# Program of loop in python\n",
        "\n",
        "list = []\n",
        "\n",
        "for i in range(10):\n",
        "  i_values = i+1\n",
        "  list.append(i*2)\n",
        "\n",
        "print(i_values)\n",
        "print(list)"
      ],
      "metadata": {
        "colab": {
          "base_uri": "https://localhost:8080/"
        },
        "id": "9-O-v-7Qd30c",
        "outputId": "dabb5ffb-7242-44f9-85dd-d9e6875d6581"
      },
      "execution_count": 21,
      "outputs": [
        {
          "output_type": "stream",
          "name": "stdout",
          "text": [
            "10\n",
            "[0, 2, 4, 6, 8, 10, 12, 14, 16, 18]\n"
          ]
        }
      ]
    },
    {
      "cell_type": "code",
      "source": [
        "arr2d = np.arange(1,11)\n",
        "arr2d\n",
        "\n"
      ],
      "metadata": {
        "colab": {
          "base_uri": "https://localhost:8080/"
        },
        "id": "aRky06Aeer63",
        "outputId": "7bada3ec-b9bc-463d-b6a5-6911abefa4b1"
      },
      "execution_count": 31,
      "outputs": [
        {
          "output_type": "execute_result",
          "data": {
            "text/plain": [
              "array([ 1,  2,  3,  4,  5,  6,  7,  8,  9, 10])"
            ]
          },
          "metadata": {},
          "execution_count": 31
        }
      ]
    },
    {
      "cell_type": "code",
      "source": [
        "arr2d*2"
      ],
      "metadata": {
        "colab": {
          "base_uri": "https://localhost:8080/"
        },
        "id": "ABXnyILxfLme",
        "outputId": "77f329d4-bf39-4124-c0df-81a85dcd4b8c"
      },
      "execution_count": 32,
      "outputs": [
        {
          "output_type": "execute_result",
          "data": {
            "text/plain": [
              "array([ 2,  4,  6,  8, 10, 12, 14, 16, 18, 20])"
            ]
          },
          "metadata": {},
          "execution_count": 32
        }
      ]
    },
    {
      "cell_type": "markdown",
      "source": [
        "# Adding 02 Matrices"
      ],
      "metadata": {
        "id": "wV8dSR4Lgit5"
      }
    },
    {
      "cell_type": "code",
      "source": [
        "matrix1 = np.arange(25)\n",
        "matrix1"
      ],
      "metadata": {
        "colab": {
          "base_uri": "https://localhost:8080/"
        },
        "id": "G4eLfcwlgl-b",
        "outputId": "ec50ed3d-9e25-4a4b-83ac-7f9ae06ed4c3"
      },
      "execution_count": 35,
      "outputs": [
        {
          "output_type": "execute_result",
          "data": {
            "text/plain": [
              "array([ 0,  1,  2,  3,  4,  5,  6,  7,  8,  9, 10, 11, 12, 13, 14, 15, 16,\n",
              "       17, 18, 19, 20, 21, 22, 23, 24])"
            ]
          },
          "metadata": {},
          "execution_count": 35
        }
      ]
    },
    {
      "cell_type": "code",
      "source": [
        "matrix2 = np.arange(25,50).reshape(5,5)\n",
        "matrix2  # matrix has 05 rows and 05 columns\n",
        "\n",
        "# This technique is called as mirroring or element wise matrix operation"
      ],
      "metadata": {
        "colab": {
          "base_uri": "https://localhost:8080/"
        },
        "id": "NyZVyI2cgv2f",
        "outputId": "25ae651c-1343-499e-88e2-1e66ef4bb4fe"
      },
      "execution_count": 43,
      "outputs": [
        {
          "output_type": "execute_result",
          "data": {
            "text/plain": [
              "array([[25, 26, 27, 28, 29],\n",
              "       [30, 31, 32, 33, 34],\n",
              "       [35, 36, 37, 38, 39],\n",
              "       [40, 41, 42, 43, 44],\n",
              "       [45, 46, 47, 48, 49]])"
            ]
          },
          "metadata": {},
          "execution_count": 43
        }
      ]
    },
    {
      "cell_type": "code",
      "source": [
        "matrix2.shape"
      ],
      "metadata": {
        "colab": {
          "base_uri": "https://localhost:8080/"
        },
        "id": "0PNJVJ4LhDbT",
        "outputId": "1bf54adf-0093-4ad6-ac81-31f5716df828"
      },
      "execution_count": 39,
      "outputs": [
        {
          "output_type": "execute_result",
          "data": {
            "text/plain": [
              "(25,)"
            ]
          },
          "metadata": {},
          "execution_count": 39
        }
      ]
    },
    {
      "cell_type": "code",
      "source": [
        "matrix1.shape"
      ],
      "metadata": {
        "colab": {
          "base_uri": "https://localhost:8080/"
        },
        "id": "75ygPpskhGA3",
        "outputId": "642f629c-f812-40c7-f379-d74b5203abe3"
      },
      "execution_count": 40,
      "outputs": [
        {
          "output_type": "execute_result",
          "data": {
            "text/plain": [
              "(25,)"
            ]
          },
          "metadata": {},
          "execution_count": 40
        }
      ]
    },
    {
      "cell_type": "code",
      "source": [
        "matrix1 + matrix2"
      ],
      "metadata": {
        "colab": {
          "base_uri": "https://localhost:8080/"
        },
        "id": "UM1tccm_hIZr",
        "outputId": "ed83ba4a-f5b5-4cba-c931-91188fcf5cbf"
      },
      "execution_count": 41,
      "outputs": [
        {
          "output_type": "execute_result",
          "data": {
            "text/plain": [
              "array([25, 27, 29, 31, 33, 35, 37, 39, 41, 43, 45, 47, 49, 51, 53, 55, 57,\n",
              "       59, 61, 63, 65, 67, 69, 71, 73])"
            ]
          },
          "metadata": {},
          "execution_count": 41
        }
      ]
    },
    {
      "cell_type": "markdown",
      "source": [
        "# Array Slicing"
      ],
      "metadata": {
        "id": "3d7iOAcijMw-"
      }
    },
    {
      "cell_type": "code",
      "source": [
        "# array([row , column] , [row , column])\n",
        "\n",
        "arr = np.arange(1, 26).reshape(5,5)\n",
        "arr"
      ],
      "metadata": {
        "colab": {
          "base_uri": "https://localhost:8080/"
        },
        "id": "q1a5BzBZjMLv",
        "outputId": "6de9e72b-e2de-428d-9a8b-b03383f7972c"
      },
      "execution_count": 47,
      "outputs": [
        {
          "output_type": "execute_result",
          "data": {
            "text/plain": [
              "array([[ 1,  2,  3,  4,  5],\n",
              "       [ 6,  7,  8,  9, 10],\n",
              "       [11, 12, 13, 14, 15],\n",
              "       [16, 17, 18, 19, 20],\n",
              "       [21, 22, 23, 24, 25]])"
            ]
          },
          "metadata": {},
          "execution_count": 47
        }
      ]
    },
    {
      "cell_type": "code",
      "source": [
        "arr[2 , 3] # rows and columns"
      ],
      "metadata": {
        "colab": {
          "base_uri": "https://localhost:8080/"
        },
        "id": "h4E5C-zdjfoi",
        "outputId": "f0ca9073-4045-4a6d-9155-85d1697e3468"
      },
      "execution_count": 51,
      "outputs": [
        {
          "output_type": "execute_result",
          "data": {
            "text/plain": [
              "14"
            ]
          },
          "metadata": {},
          "execution_count": 51
        }
      ]
    },
    {
      "cell_type": "code",
      "source": [
        "arr[0 , 4]"
      ],
      "metadata": {
        "colab": {
          "base_uri": "https://localhost:8080/"
        },
        "id": "pZnguQqFka9n",
        "outputId": "fef195fe-5efd-4a9f-9ea8-e77fed0973dc"
      },
      "execution_count": 56,
      "outputs": [
        {
          "output_type": "execute_result",
          "data": {
            "text/plain": [
              "5"
            ]
          },
          "metadata": {},
          "execution_count": 56
        }
      ]
    },
    {
      "cell_type": "markdown",
      "source": [
        "# Array Masking"
      ],
      "metadata": {
        "id": "FhupOWfak35W"
      }
    },
    {
      "cell_type": "code",
      "source": [
        "mask = arr > 5\n",
        "mask"
      ],
      "metadata": {
        "colab": {
          "base_uri": "https://localhost:8080/"
        },
        "id": "vIQ0Afx1k5sW",
        "outputId": "19db3b99-0a26-4368-c7e7-71500788c9b6"
      },
      "execution_count": 58,
      "outputs": [
        {
          "output_type": "execute_result",
          "data": {
            "text/plain": [
              "array([[False, False, False, False, False],\n",
              "       [ True,  True,  True,  True,  True],\n",
              "       [ True,  True,  True,  True,  True],\n",
              "       [ True,  True,  True,  True,  True],\n",
              "       [ True,  True,  True,  True,  True]])"
            ]
          },
          "metadata": {},
          "execution_count": 58
        }
      ]
    },
    {
      "cell_type": "code",
      "source": [
        "arr[mask] # it will fetch all the values havign positive values"
      ],
      "metadata": {
        "colab": {
          "base_uri": "https://localhost:8080/"
        },
        "id": "ZasLPJUYlGmb",
        "outputId": "10dd849a-1d16-41cc-b88e-a431a6df6690"
      },
      "execution_count": 60,
      "outputs": [
        {
          "output_type": "execute_result",
          "data": {
            "text/plain": [
              "array([ 6,  7,  8,  9, 10, 11, 12, 13, 14, 15, 16, 17, 18, 19, 20, 21, 22,\n",
              "       23, 24, 25])"
            ]
          },
          "metadata": {},
          "execution_count": 60
        }
      ]
    },
    {
      "cell_type": "code",
      "source": [
        "arr[arr>20]"
      ],
      "metadata": {
        "colab": {
          "base_uri": "https://localhost:8080/"
        },
        "id": "PfkD82N7lY00",
        "outputId": "d764de62-6eee-4c0c-c587-4967a9ec3595"
      },
      "execution_count": 63,
      "outputs": [
        {
          "output_type": "execute_result",
          "data": {
            "text/plain": [
              "array([30, 30, 30, 30, 30])"
            ]
          },
          "metadata": {},
          "execution_count": 63
        }
      ]
    },
    {
      "cell_type": "code",
      "source": [
        "arr[arr>10]"
      ],
      "metadata": {
        "colab": {
          "base_uri": "https://localhost:8080/"
        },
        "id": "sCakhpKLl32r",
        "outputId": "a7cb9340-bc66-4efa-ea66-21928a3ed657"
      },
      "execution_count": 65,
      "outputs": [
        {
          "output_type": "execute_result",
          "data": {
            "text/plain": [
              "array([11, 12, 13, 14, 15, 16, 17, 18, 19, 20, 30, 30, 30, 30, 30])"
            ]
          },
          "metadata": {},
          "execution_count": 65
        }
      ]
    },
    {
      "cell_type": "code",
      "source": [
        "np.where(arr>2 , 34 , arr )"
      ],
      "metadata": {
        "colab": {
          "base_uri": "https://localhost:8080/"
        },
        "id": "6PmaMNvOl-KU",
        "outputId": "be7cad45-db7c-4bf7-f338-9e24d8b00389"
      },
      "execution_count": 70,
      "outputs": [
        {
          "output_type": "execute_result",
          "data": {
            "text/plain": [
              "array([[ 1,  2, 34, 34, 34],\n",
              "       [34, 34, 34, 34, 34],\n",
              "       [34, 34, 34, 34, 34],\n",
              "       [34, 34, 34, 34, 34],\n",
              "       [34, 34, 34, 34, 34]])"
            ]
          },
          "metadata": {},
          "execution_count": 70
        }
      ]
    },
    {
      "cell_type": "markdown",
      "source": [
        "# Combining or Concatenating two different Arrays"
      ],
      "metadata": {
        "id": "NCwwnmAbngxE"
      }
    },
    {
      "cell_type": "code",
      "source": [
        "a = np.arange(1, 51).reshape(10,5)\n",
        "a"
      ],
      "metadata": {
        "colab": {
          "base_uri": "https://localhost:8080/"
        },
        "id": "n-MJQAN2nkNu",
        "outputId": "d01be49d-c5ce-42fb-948e-f362b64bb290"
      },
      "execution_count": 74,
      "outputs": [
        {
          "output_type": "execute_result",
          "data": {
            "text/plain": [
              "array([[ 1,  2,  3,  4,  5],\n",
              "       [ 6,  7,  8,  9, 10],\n",
              "       [11, 12, 13, 14, 15],\n",
              "       [16, 17, 18, 19, 20],\n",
              "       [21, 22, 23, 24, 25],\n",
              "       [26, 27, 28, 29, 30],\n",
              "       [31, 32, 33, 34, 35],\n",
              "       [36, 37, 38, 39, 40],\n",
              "       [41, 42, 43, 44, 45],\n",
              "       [46, 47, 48, 49, 50]])"
            ]
          },
          "metadata": {},
          "execution_count": 74
        }
      ]
    },
    {
      "cell_type": "code",
      "source": [
        "b = np.arange(101,151).reshape(10,5)\n",
        "b"
      ],
      "metadata": {
        "colab": {
          "base_uri": "https://localhost:8080/"
        },
        "id": "XmbBdqlqnweb",
        "outputId": "a1adc841-9286-4e99-8438-bc1fb6d01d4f"
      },
      "execution_count": 77,
      "outputs": [
        {
          "output_type": "execute_result",
          "data": {
            "text/plain": [
              "array([[101, 102, 103, 104, 105],\n",
              "       [106, 107, 108, 109, 110],\n",
              "       [111, 112, 113, 114, 115],\n",
              "       [116, 117, 118, 119, 120],\n",
              "       [121, 122, 123, 124, 125],\n",
              "       [126, 127, 128, 129, 130],\n",
              "       [131, 132, 133, 134, 135],\n",
              "       [136, 137, 138, 139, 140],\n",
              "       [141, 142, 143, 144, 145],\n",
              "       [146, 147, 148, 149, 150]])"
            ]
          },
          "metadata": {},
          "execution_count": 77
        }
      ]
    },
    {
      "cell_type": "code",
      "source": [
        "# concatenating two differnent arrays\n",
        "\n",
        "np.concatenate((a,b))\n",
        "# by default it concatenates with rows , i.e axis = 0"
      ],
      "metadata": {
        "colab": {
          "base_uri": "https://localhost:8080/"
        },
        "id": "kPhsPtKAn3FX",
        "outputId": "a996ed2c-400e-4639-b6d2-c4ffa6d63dbe"
      },
      "execution_count": 80,
      "outputs": [
        {
          "output_type": "execute_result",
          "data": {
            "text/plain": [
              "array([[  1,   2,   3,   4,   5],\n",
              "       [  6,   7,   8,   9,  10],\n",
              "       [ 11,  12,  13,  14,  15],\n",
              "       [ 16,  17,  18,  19,  20],\n",
              "       [ 21,  22,  23,  24,  25],\n",
              "       [ 26,  27,  28,  29,  30],\n",
              "       [ 31,  32,  33,  34,  35],\n",
              "       [ 36,  37,  38,  39,  40],\n",
              "       [ 41,  42,  43,  44,  45],\n",
              "       [ 46,  47,  48,  49,  50],\n",
              "       [101, 102, 103, 104, 105],\n",
              "       [106, 107, 108, 109, 110],\n",
              "       [111, 112, 113, 114, 115],\n",
              "       [116, 117, 118, 119, 120],\n",
              "       [121, 122, 123, 124, 125],\n",
              "       [126, 127, 128, 129, 130],\n",
              "       [131, 132, 133, 134, 135],\n",
              "       [136, 137, 138, 139, 140],\n",
              "       [141, 142, 143, 144, 145],\n",
              "       [146, 147, 148, 149, 150]])"
            ]
          },
          "metadata": {},
          "execution_count": 80
        }
      ]
    },
    {
      "cell_type": "code",
      "source": [
        "np.concatenate((a,b) , axis = 1) # Now the code has been concatenated in the form of columns i.e (axis = 1)"
      ],
      "metadata": {
        "colab": {
          "base_uri": "https://localhost:8080/"
        },
        "id": "O_GsCM5Popuh",
        "outputId": "f3be859a-1a2a-4acb-c79d-137a208bc711"
      },
      "execution_count": 82,
      "outputs": [
        {
          "output_type": "execute_result",
          "data": {
            "text/plain": [
              "array([[  1,   2,   3,   4,   5, 101, 102, 103, 104, 105],\n",
              "       [  6,   7,   8,   9,  10, 106, 107, 108, 109, 110],\n",
              "       [ 11,  12,  13,  14,  15, 111, 112, 113, 114, 115],\n",
              "       [ 16,  17,  18,  19,  20, 116, 117, 118, 119, 120],\n",
              "       [ 21,  22,  23,  24,  25, 121, 122, 123, 124, 125],\n",
              "       [ 26,  27,  28,  29,  30, 126, 127, 128, 129, 130],\n",
              "       [ 31,  32,  33,  34,  35, 131, 132, 133, 134, 135],\n",
              "       [ 36,  37,  38,  39,  40, 136, 137, 138, 139, 140],\n",
              "       [ 41,  42,  43,  44,  45, 141, 142, 143, 144, 145],\n",
              "       [ 46,  47,  48,  49,  50, 146, 147, 148, 149, 150]])"
            ]
          },
          "metadata": {},
          "execution_count": 82
        }
      ]
    },
    {
      "cell_type": "code",
      "source": [
        "np.stack((a,b)) # stack ka matlb ye hay k , aik k uper aik lagata jaye ga ??"
      ],
      "metadata": {
        "colab": {
          "base_uri": "https://localhost:8080/"
        },
        "id": "stRYLb_ApNLr",
        "outputId": "6619324d-a42e-4e5d-a610-3b2aecbc0331"
      },
      "execution_count": 83,
      "outputs": [
        {
          "output_type": "execute_result",
          "data": {
            "text/plain": [
              "array([[[  1,   2,   3,   4,   5],\n",
              "        [  6,   7,   8,   9,  10],\n",
              "        [ 11,  12,  13,  14,  15],\n",
              "        [ 16,  17,  18,  19,  20],\n",
              "        [ 21,  22,  23,  24,  25],\n",
              "        [ 26,  27,  28,  29,  30],\n",
              "        [ 31,  32,  33,  34,  35],\n",
              "        [ 36,  37,  38,  39,  40],\n",
              "        [ 41,  42,  43,  44,  45],\n",
              "        [ 46,  47,  48,  49,  50]],\n",
              "\n",
              "       [[101, 102, 103, 104, 105],\n",
              "        [106, 107, 108, 109, 110],\n",
              "        [111, 112, 113, 114, 115],\n",
              "        [116, 117, 118, 119, 120],\n",
              "        [121, 122, 123, 124, 125],\n",
              "        [126, 127, 128, 129, 130],\n",
              "        [131, 132, 133, 134, 135],\n",
              "        [136, 137, 138, 139, 140],\n",
              "        [141, 142, 143, 144, 145],\n",
              "        [146, 147, 148, 149, 150]]])"
            ]
          },
          "metadata": {},
          "execution_count": 83
        }
      ]
    },
    {
      "cell_type": "code",
      "source": [
        "np.hstack((a,b))"
      ],
      "metadata": {
        "colab": {
          "base_uri": "https://localhost:8080/"
        },
        "id": "oefpXhf2pWaY",
        "outputId": "60863bbc-ca34-4fc1-889a-5050117161d2"
      },
      "execution_count": 85,
      "outputs": [
        {
          "output_type": "execute_result",
          "data": {
            "text/plain": [
              "array([[  1,   2,   3,   4,   5, 101, 102, 103, 104, 105],\n",
              "       [  6,   7,   8,   9,  10, 106, 107, 108, 109, 110],\n",
              "       [ 11,  12,  13,  14,  15, 111, 112, 113, 114, 115],\n",
              "       [ 16,  17,  18,  19,  20, 116, 117, 118, 119, 120],\n",
              "       [ 21,  22,  23,  24,  25, 121, 122, 123, 124, 125],\n",
              "       [ 26,  27,  28,  29,  30, 126, 127, 128, 129, 130],\n",
              "       [ 31,  32,  33,  34,  35, 131, 132, 133, 134, 135],\n",
              "       [ 36,  37,  38,  39,  40, 136, 137, 138, 139, 140],\n",
              "       [ 41,  42,  43,  44,  45, 141, 142, 143, 144, 145],\n",
              "       [ 46,  47,  48,  49,  50, 146, 147, 148, 149, 150]])"
            ]
          },
          "metadata": {},
          "execution_count": 85
        }
      ]
    },
    {
      "cell_type": "code",
      "source": [
        "np.vstack((a,b))"
      ],
      "metadata": {
        "colab": {
          "base_uri": "https://localhost:8080/"
        },
        "id": "Onm7e-xIpogC",
        "outputId": "6342a712-315f-4570-a8c3-2435c5eadb92"
      },
      "execution_count": 87,
      "outputs": [
        {
          "output_type": "execute_result",
          "data": {
            "text/plain": [
              "array([[  1,   2,   3,   4,   5],\n",
              "       [  6,   7,   8,   9,  10],\n",
              "       [ 11,  12,  13,  14,  15],\n",
              "       [ 16,  17,  18,  19,  20],\n",
              "       [ 21,  22,  23,  24,  25],\n",
              "       [ 26,  27,  28,  29,  30],\n",
              "       [ 31,  32,  33,  34,  35],\n",
              "       [ 36,  37,  38,  39,  40],\n",
              "       [ 41,  42,  43,  44,  45],\n",
              "       [ 46,  47,  48,  49,  50],\n",
              "       [101, 102, 103, 104, 105],\n",
              "       [106, 107, 108, 109, 110],\n",
              "       [111, 112, 113, 114, 115],\n",
              "       [116, 117, 118, 119, 120],\n",
              "       [121, 122, 123, 124, 125],\n",
              "       [126, 127, 128, 129, 130],\n",
              "       [131, 132, 133, 134, 135],\n",
              "       [136, 137, 138, 139, 140],\n",
              "       [141, 142, 143, 144, 145],\n",
              "       [146, 147, 148, 149, 150]])"
            ]
          },
          "metadata": {},
          "execution_count": 87
        }
      ]
    },
    {
      "cell_type": "markdown",
      "source": [
        "# Some Other Useful Array Methods"
      ],
      "metadata": {
        "id": "DYitrk1ZrKIH"
      }
    },
    {
      "cell_type": "code",
      "source": [
        "a.min()\n",
        "\n"
      ],
      "metadata": {
        "colab": {
          "base_uri": "https://localhost:8080/"
        },
        "id": "qH7ORGznrJSC",
        "outputId": "294a5b1f-cf1a-4ec1-ec0a-6684c62f6bef"
      },
      "execution_count": 89,
      "outputs": [
        {
          "output_type": "execute_result",
          "data": {
            "text/plain": [
              "1"
            ]
          },
          "metadata": {},
          "execution_count": 89
        }
      ]
    },
    {
      "cell_type": "code",
      "source": [
        "a.argmin()"
      ],
      "metadata": {
        "colab": {
          "base_uri": "https://localhost:8080/"
        },
        "id": "zrfZTDK-rVCu",
        "outputId": "0fd30587-25dc-4246-eafb-e50f666ad116"
      },
      "execution_count": 95,
      "outputs": [
        {
          "output_type": "execute_result",
          "data": {
            "text/plain": [
              "0"
            ]
          },
          "metadata": {},
          "execution_count": 95
        }
      ]
    },
    {
      "cell_type": "code",
      "source": [
        "a.argmax()"
      ],
      "metadata": {
        "colab": {
          "base_uri": "https://localhost:8080/"
        },
        "id": "aMxYGaLyrjCx",
        "outputId": "51252626-b03c-40bf-8b10-8468e51a7509"
      },
      "execution_count": 97,
      "outputs": [
        {
          "output_type": "execute_result",
          "data": {
            "text/plain": [
              "49"
            ]
          },
          "metadata": {},
          "execution_count": 97
        }
      ]
    }
  ]
}